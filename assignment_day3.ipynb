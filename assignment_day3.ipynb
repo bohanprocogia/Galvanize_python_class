{
 "cells": [
  {
   "cell_type": "code",
   "execution_count": 2,
   "metadata": {
    "collapsed": false
   },
   "outputs": [],
   "source": [
    "# Assignment 1\n",
    "# They are already written in for loops"
   ]
  },
  {
   "cell_type": "code",
   "execution_count": 72,
   "metadata": {
    "collapsed": false
   },
   "outputs": [
    {
     "name": "stdout",
     "output_type": "stream",
     "text": [
      "enter the letter you want to locate: ASD\n",
      "enter the string: asdASD\n"
     ]
    },
    {
     "data": {
      "text/plain": [
       "2"
      ]
     },
     "execution_count": 72,
     "metadata": {},
     "output_type": "execute_result"
    }
   ],
   "source": [
    "# Assignment 2.1\n",
    "# find the count of a letter in a string, ignore case\n",
    "\n",
    "a = raw_input(\"enter the letter you want to locate: \").lower()\n",
    "string = raw_input(\"enter the string: \").lower()\n",
    "string.count(a)\n",
    "\n"
   ]
  },
  {
   "cell_type": "code",
   "execution_count": 93,
   "metadata": {
    "collapsed": false
   },
   "outputs": [
    {
     "name": "stdout",
     "output_type": "stream",
     "text": [
      "Please enter the test string: a\n",
      "a\n"
     ]
    }
   ],
   "source": [
    "# Assignment 2.2\n",
    "# check if the input string ends with \"!\"\n",
    "string = raw_input(\"Please enter the test string: \")\n",
    "\n",
    "if string[-1] == \"!\":\n",
    "    print string.upper()\n",
    "else:\n",
    "    print string.lower()\n"
   ]
  },
  {
   "cell_type": "code",
   "execution_count": 95,
   "metadata": {
    "collapsed": false
   },
   "outputs": [
    {
     "name": "stdout",
     "output_type": "stream",
     "text": [
      "Please enter the test string: ali\n"
     ]
    },
    {
     "ename": "TypeError",
     "evalue": "expected a string or other character buffer object",
     "output_type": "error",
     "traceback": [
      "\u001b[0;31m\u001b[0m",
      "\u001b[0;31mTypeError\u001b[0mTraceback (most recent call last)",
      "\u001b[0;32m<ipython-input-95-7bbbdcf9c540>\u001b[0m in \u001b[0;36m<module>\u001b[0;34m()\u001b[0m\n\u001b[1;32m      7\u001b[0m     \u001b[0mstring\u001b[0m \u001b[1;33m=\u001b[0m \u001b[0mstring\u001b[0m\u001b[1;33m.\u001b[0m\u001b[0mreplace\u001b[0m\u001b[1;33m(\u001b[0m\u001b[0mi\u001b[0m\u001b[1;33m,\u001b[0m\u001b[1;34m\"\"\u001b[0m\u001b[1;33m)\u001b[0m\u001b[1;33m\u001b[0m\u001b[0m\n\u001b[1;32m      8\u001b[0m \u001b[1;33m\u001b[0m\u001b[0m\n\u001b[0;32m----> 9\u001b[0;31m \u001b[0mstring\u001b[0m \u001b[1;33m=\u001b[0m \u001b[0mstring\u001b[0m\u001b[1;33m.\u001b[0m\u001b[0mreplace\u001b[0m\u001b[1;33m(\u001b[0m\u001b[0mvowels\u001b[0m\u001b[1;33m[\u001b[0m\u001b[1;33m:\u001b[0m\u001b[1;33m]\u001b[0m\u001b[1;33m,\u001b[0m\u001b[1;34m\"\"\u001b[0m\u001b[1;33m)\u001b[0m\u001b[1;33m\u001b[0m\u001b[0m\n\u001b[0m\u001b[1;32m     10\u001b[0m \u001b[1;33m\u001b[0m\u001b[0m\n",
      "\u001b[0;31mTypeError\u001b[0m: expected a string or other character buffer object"
     ]
    }
   ],
   "source": [
    "# Assignment 2.3\n",
    "# remove all vewels in a string\n",
    "\n",
    "string = raw_input(\"Please enter the test string: \")\n",
    "\n",
    "vowels = [\"a\",\"e\",\"i\",\"o\",\"u\"]\n",
    "for i in vowels:\n",
    "    string = string.replace(i,\"\")\n",
    "\n",
    "# or use the following command to avoide for loop\n",
    "import re\n",
    "re.sub(\"[aeiou]\",\"\",string)\n"
   ]
  },
  {
   "cell_type": "code",
   "execution_count": 133,
   "metadata": {
    "collapsed": false
   },
   "outputs": [
    {
     "name": "stdout",
     "output_type": "stream",
     "text": [
      "Please enter the test string: hello world\n",
      "\n",
      "hElLo wOrLd\n"
     ]
    }
   ],
   "source": [
    "# Assignment 2.4\n",
    "# make every other letter capitalized\n",
    "\n",
    "string = raw_input(\"Please enter the test string: \")\n",
    "\n",
    "new_string = ''\n",
    "print new_string\n",
    "\n",
    "for i in range(len(string)):\n",
    "    if i%2 == 0:\n",
    "        new_string = new_string + string[i].lower()\n",
    "    elif i%2 == 1:\n",
    "        new_string = new_string + string[i].upper()\n",
    "print new_string\n",
    "    "
   ]
  },
  {
   "cell_type": "code",
   "execution_count": 149,
   "metadata": {
    "collapsed": false
   },
   "outputs": [
    {
     "name": "stdout",
     "output_type": "stream",
     "text": [
      "enter the terminating number 7\n",
      "[0, 2, 4, 6]\n"
     ]
    }
   ],
   "source": [
    "# Assignment 3.1\n",
    "# create a list of even numbers between 0 and an input number\n",
    "\n",
    "a = int(raw_input(\"enter the terminating number \"))\n",
    "\n",
    "lis = []\n",
    "i=0\n",
    "while i <= a:\n",
    "    if i % 2 == 0:\n",
    "        lis.append(i)\n",
    "    else:\n",
    "        pass\n",
    "    i += 1\n",
    "print lis\n"
   ]
  },
  {
   "cell_type": "code",
   "execution_count": 171,
   "metadata": {
    "collapsed": false
   },
   "outputs": [
    {
     "name": "stdout",
     "output_type": "stream",
     "text": [
      "enter the terminating number 10\n",
      "the list of numbers are multiple of this 4\n",
      "[0, 4, 8]\n"
     ]
    }
   ],
   "source": [
    "# Assignment 3.2\n",
    "# create a list of numbers which are divisible by an input, between 0 and an input number \n",
    "\n",
    "a = int(raw_input(\"enter the terminating number \"))\n",
    "b = int(raw_input(\"the list of numbers are multiple of this \"))\n",
    "\n",
    "list_num = []\n",
    "i = 0\n",
    "while i <= a:\n",
    "    if i%b == 0:\n",
    "        list_num.append(i)\n",
    "    else:\n",
    "        pass\n",
    "    i += 1\n",
    "    \n",
    "print list_num    \n"
   ]
  },
  {
   "cell_type": "code",
   "execution_count": 163,
   "metadata": {
    "collapsed": false
   },
   "outputs": [
    {
     "data": {
      "text/plain": [
       "[2, 6]"
      ]
     },
     "execution_count": 163,
     "metadata": {},
     "output_type": "execute_result"
    }
   ],
   "source": [
    "# Assignment 3.3\n",
    "# find the common element in the lists [0, 3, 6, 9, 10, 2, 5] and [2, 6, 4, 7, 8, 1, 15]\n",
    "\n",
    "\n",
    "list_a = [0, 3, 6, 9, 10, 2, 5]\n",
    "list_b = [2, 6, 4, 7, 8, 1, 15]\n",
    "\n",
    "list(set(list_a).intersection(set(list_b)))\n",
    "\n",
    "\n",
    "\n",
    "\n",
    "\n",
    "\n"
   ]
  },
  {
   "cell_type": "code",
   "execution_count": null,
   "metadata": {
    "collapsed": true
   },
   "outputs": [],
   "source": [
    "# Assignment 3.4\n",
    "# create a list of numbers which are multiples of an input, between 0 and an input number \n",
    "\n",
    "a = int(raw_input(\"enter the terminating number \"))\n",
    "b = int(raw_input(\"the list of numbers are multiple of this \"))\n",
    "\n",
    "list_num = []\n",
    "i = 0\n",
    "while i <= a:\n",
    "    if i%b == 0:\n",
    "        list_num.append(i)\n",
    "    else:\n",
    "        pass\n",
    "    i += 1\n",
    "    \n",
    "print list_num "
   ]
  },
  {
   "cell_type": "code",
   "execution_count": 170,
   "metadata": {
    "collapsed": false
   },
   "outputs": [
    {
     "name": "stdout",
     "output_type": "stream",
     "text": [
      "Please enter the 1st number for the first list: 1\n",
      "Please enter the 2nd number for the first list: 2\n",
      "Please enter the 3rd number for the first list: 3\n",
      "Please enter the 4th number for the first list: 4\n",
      "Please enter the 5th number for the first list: 5\n",
      "Please enter the 6th number for the first list: 6\n",
      "Please enter the 7th number for the first list: 7\n",
      "Please enter the 1st number for the second list: 8\n",
      "Please enter the 2nd number for the second list: 9\n",
      "Please enter the 3rd number for the second list: 0\n",
      "Please enter the 4th number for the second list: 5\n",
      "Please enter the 5th number for the second list: 5\n",
      "Please enter the 6th number for the second list: 5\n",
      "Please enter the 7th number for the second list: 5\n"
     ]
    },
    {
     "data": {
      "text/plain": [
       "[5]"
      ]
     },
     "execution_count": 170,
     "metadata": {},
     "output_type": "execute_result"
    }
   ],
   "source": [
    "a1 = int(raw_input(\"Please enter the 1st number for the first list: \")) \n",
    "a2 = int(raw_input(\"Please enter the 2nd number for the first list: \")) \n",
    "a3 = int(raw_input(\"Please enter the 3rd number for the first list: \")) \n",
    "a4 = int(raw_input(\"Please enter the 4th number for the first list: \")) \n",
    "a5 = int(raw_input(\"Please enter the 5th number for the first list: \")) \n",
    "a6 = int(raw_input(\"Please enter the 6th number for the first list: \")) \n",
    "a7 = int(raw_input(\"Please enter the 7th number for the first list: \"))\n",
    "\n",
    "b1 = int(raw_input(\"Please enter the 1st number for the second list: \")) \n",
    "b2 = int(raw_input(\"Please enter the 2nd number for the second list: \")) \n",
    "b3 = int(raw_input(\"Please enter the 3rd number for the second list: \")) \n",
    "b4 = int(raw_input(\"Please enter the 4th number for the second list: \")) \n",
    "b5 = int(raw_input(\"Please enter the 5th number for the second list: \")) \n",
    "b6 = int(raw_input(\"Please enter the 6th number for the second list: \")) \n",
    "b7 = int(raw_input(\"Please enter the 7th number for the second list: \"))\n",
    "list_a = [a1,a2,a3,a4,a5,a6,a7] \n",
    "list_b = [b1,b2,b3,b4,b5,b6,b7] \n",
    "list(set(list_a).intersection(set(list_b)))"
   ]
  }
 ],
 "metadata": {
  "anaconda-cloud": {},
  "kernelspec": {
   "display_name": "Python [conda root]",
   "language": "python",
   "name": "conda-root-py"
  },
  "language_info": {
   "codemirror_mode": {
    "name": "ipython",
    "version": 2
   },
   "file_extension": ".py",
   "mimetype": "text/x-python",
   "name": "python",
   "nbconvert_exporter": "python",
   "pygments_lexer": "ipython2",
   "version": "2.7.12"
  }
 },
 "nbformat": 4,
 "nbformat_minor": 1
}

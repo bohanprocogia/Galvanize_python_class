{
 "cells": [
  {
   "cell_type": "code",
   "execution_count": 67,
   "metadata": {
    "collapsed": false
   },
   "outputs": [
    {
     "name": "stdout",
     "output_type": "stream",
     "text": [
      "please enter the list of elements: 1,2,3\n",
      "[(1, 2)]\n"
     ]
    }
   ],
   "source": [
    "# Assignment 1\n",
    "# transfer the input into a list of tuples\n",
    "\n",
    "inp = raw_input(\"please enter the list of numbers, splited by ',': \").split(',')\n",
    "\n",
    "inp = list(inp)\n",
    "if len(inp)%2 ==0 :\n",
    "    inp = inp\n",
    "else:\n",
    "    inp.pop(-1)\n",
    "\n",
    "lis = []\n",
    "for i in range(len(inp)/2):\n",
    "    lis.append((int(inp[2*i]),int(inp[2*i+1])))\n",
    "print lis"
   ]
  },
  {
   "cell_type": "code",
   "execution_count": 92,
   "metadata": {
    "collapsed": false
   },
   "outputs": [
    {
     "name": "stdout",
     "output_type": "stream",
     "text": [
      "please enter the list of elements separated by '-' : 1-2-34\n",
      "{'1': 1, '2': 4, '34': 1156}\n"
     ]
    }
   ],
   "source": [
    "# Assignment 2.1\n",
    "inp = raw_input(\"please enter the list of elements separated by '-' : \").split('-')\n",
    "\n",
    "dic = {}\n",
    "for i in inp:\n",
    "    dic[i] = int(i)**2\n",
    "print dic"
   ]
  },
  {
   "cell_type": "code",
   "execution_count": 90,
   "metadata": {
    "collapsed": false
   },
   "outputs": [
    {
     "name": "stdout",
     "output_type": "stream",
     "text": [
      "please enter the state name: COlorado\n",
      "denver\n"
     ]
    }
   ],
   "source": [
    "# Assignment 2.2\n",
    "\n",
    "state_dictionary = {'colorado': 'denver', 'alaska': 'juneau', 'california': 'sacramento',\n",
    "                        'georgia': 'atlanta', 'kansas': 'topeka', 'nebraska': 'lincoln',\n",
    "                        'oregon': 'salem', 'texas': 'austin', 'new york': 'albany'}\n",
    "\n",
    "state = raw_input(\"please enter the state name: \").lower()\n",
    "\n",
    "if state in state_dictionary:\n",
    "    print state_dictionary[state]\n",
    "else:\n",
    "    print \"unknown\""
   ]
  },
  {
   "cell_type": "code",
   "execution_count": 125,
   "metadata": {
    "collapsed": false
   },
   "outputs": [
    {
     "name": "stdout",
     "output_type": "stream",
     "text": [
      "enter the coordinates and a word: 1,2,3\n",
      "enter the coordinates and a word: \n",
      "{(1, 2): '3'}\n"
     ]
    }
   ],
   "source": [
    "# Assignment 2.3\n",
    "\n",
    "dic = {}\n",
    "while True:\n",
    "    inp = raw_input(\"enter the coordinates and a word: \")\n",
    "    if inp <> '':\n",
    "        x,y,word = inp.split(',')\n",
    "        dic[(int(x),int(y))] = word\n",
    "    else:\n",
    "        print dic\n",
    "        break"
   ]
  },
  {
   "cell_type": "code",
   "execution_count": 4,
   "metadata": {
    "collapsed": false
   },
   "outputs": [
    {
     "name": "stdout",
     "output_type": "stream",
     "text": [
      "enter the first set: 1,2,3,4\n",
      "enter the second set: 2,3,44,5\n"
     ]
    },
    {
     "data": {
      "text/plain": [
       "{'2', '3'}"
      ]
     },
     "execution_count": 4,
     "metadata": {},
     "output_type": "execute_result"
    }
   ],
   "source": [
    "# Assignment 3.1\n",
    "# find the common elements \n",
    "\n",
    "set1 = raw_input(\"enter the elements in first set, separated by ',': \").split(',')\n",
    "set2 = raw_input(\"enter the second set, separated by ',': \").split(',')\n",
    "\n",
    "set(set1).intersection(set(set2))"
   ]
  },
  {
   "cell_type": "code",
   "execution_count": 13,
   "metadata": {
    "collapsed": false
   },
   "outputs": [
    {
     "name": "stdout",
     "output_type": "stream",
     "text": [
      "enter the words, separated by ',': word,word,unique,try\n"
     ]
    },
    {
     "data": {
      "text/plain": [
       "{'try', 'unique', 'word'}"
      ]
     },
     "execution_count": 13,
     "metadata": {},
     "output_type": "execute_result"
    }
   ],
   "source": [
    "# Assignment 3.2\n",
    "\n",
    "words = raw_input(\"enter the words, separated by ',': \").split(',')\n",
    "\n",
    "set(words)"
   ]
  },
  {
   "cell_type": "code",
   "execution_count": 30,
   "metadata": {
    "collapsed": false
   },
   "outputs": [
    {
     "name": "stdout",
     "output_type": "stream",
     "text": [
      "enter:  1\n",
      "enter:  2\n",
      "enter:  3\n",
      "enter:  3\n",
      "enter:  v\n",
      "set(['1', '3', '2'])\n",
      "enter:  q\n",
      "quit the program\n",
      "final set is   set(['1', '3', '2'])\n"
     ]
    }
   ],
   "source": [
    "# Assignment 3.3\n",
    "\n",
    "set_construct = set()\n",
    "while True:\n",
    "    word = raw_input(\"enter:  \")\n",
    "    if word == 'v':\n",
    "        print set_construct\n",
    "    elif word=='q':\n",
    "        print \"quit the program\"\n",
    "        print \"final set is\",' ',set_construct\n",
    "        break\n",
    "    else:\n",
    "        set_construct.add(word)"
   ]
  }
 ],
 "metadata": {
  "anaconda-cloud": {},
  "kernelspec": {
   "display_name": "Python [conda root]",
   "language": "python",
   "name": "conda-root-py"
  },
  "language_info": {
   "codemirror_mode": {
    "name": "ipython",
    "version": 2
   },
   "file_extension": ".py",
   "mimetype": "text/x-python",
   "name": "python",
   "nbconvert_exporter": "python",
   "pygments_lexer": "ipython2",
   "version": "2.7.12"
  }
 },
 "nbformat": 4,
 "nbformat_minor": 1
}

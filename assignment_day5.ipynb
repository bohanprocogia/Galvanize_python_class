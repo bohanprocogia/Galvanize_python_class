{
 "cells": [
  {
   "cell_type": "code",
   "execution_count": 29,
   "metadata": {
    "collapsed": false
   },
   "outputs": [],
   "source": [
    "#　Assignment 1.1\n",
    "# write a function to print all the diviors of an input number\n",
    "def find_dvs(var):\n",
    "    i = 1\n",
    "    while i <= var:\n",
    "        if var%i ==0:\n",
    "            print i\n",
    "        i += 1\n",
    "        \n"
   ]
  },
  {
   "cell_type": "code",
   "execution_count": 31,
   "metadata": {
    "collapsed": false
   },
   "outputs": [],
   "source": [
    "# Assignment 1.2\n",
    "# write a function to find the least common factors\n",
    "\n",
    "def lcm(var1,var2):\n",
    "    lcm = max(var1,var2)\n",
    "    while lcm <= var1 * var2:\n",
    "        if lcm % var1 == 0 and lcm % var2 ==0:\n",
    "            return lcm\n",
    "            break\n",
    "        else:\n",
    "            lcm += 1"
   ]
  },
  {
   "cell_type": "code",
   "execution_count": 33,
   "metadata": {
    "collapsed": false
   },
   "outputs": [
    {
     "data": {
      "text/plain": [
       "6"
      ]
     },
     "execution_count": 33,
     "metadata": {},
     "output_type": "execute_result"
    }
   ],
   "source": [
    "# Assignment 2.1\n",
    "\n"
   ]
  },
  {
   "cell_type": "code",
   "execution_count": null,
   "metadata": {
    "collapsed": true
   },
   "outputs": [],
   "source": [
    "# Assignment 2.2"
   ]
  },
  {
   "cell_type": "code",
   "execution_count": 59,
   "metadata": {
    "collapsed": true
   },
   "outputs": [],
   "source": [
    "# Assignment 2.3\n",
    "# write a sum function by yourself\n",
    "\n",
    "def mysum(var):\n",
    "    if var == '':\n",
    "        print \"nothing\"\n",
    "    elif len(var)==1:\n",
    "        mysum = var\n",
    "    else:\n",
    "        mysum = 0\n",
    "        for i in range(len(var)):\n",
    "            mysum = mysum + var[i]\n",
    "    return mysum\n",
    "        \n",
    "    \n"
   ]
  },
  {
   "cell_type": "code",
   "execution_count": 66,
   "metadata": {
    "collapsed": false
   },
   "outputs": [],
   "source": [
    "# Assignment 2.4\n",
    "# write a product function by yourself\n",
    "\n",
    "def myprod(var):\n",
    "    if var == '':\n",
    "        print \"nothing\"\n",
    "    elif len(var)==1:\n",
    "        myprod = var\n",
    "    else:\n",
    "        myprod = 1\n",
    "        for i in range(len(var)):\n",
    "            myprod = myprod * var[i]\n",
    "    return myprod\n",
    "        "
   ]
  },
  {
   "cell_type": "code",
   "execution_count": 70,
   "metadata": {
    "collapsed": false
   },
   "outputs": [],
   "source": [
    "# Assignment 2.5\n",
    "# write a function to find the even number in an input list\n",
    "\n",
    "def evenInList(var):\n",
    "    lst = []\n",
    "    for i in range(len(var)):\n",
    "        if var[i] % 2 == 0:\n",
    "            lst.append(var[i])\n",
    "    return lst\n"
   ]
  },
  {
   "cell_type": "code",
   "execution_count": 78,
   "metadata": {
    "collapsed": false
   },
   "outputs": [],
   "source": [
    "# hard Assignment 1.1\n",
    "# write a function to compute the factorial for a input number\n",
    "\n",
    "def myfact(var):\n",
    "    if var == 0:\n",
    "        fact = 1\n",
    "    else:\n",
    "        fact = 1\n",
    "        for i in range(var):\n",
    "            fact = fact * (i+1)\n",
    "    return fact"
   ]
  },
  {
   "cell_type": "code",
   "execution_count": 90,
   "metadata": {
    "collapsed": false
   },
   "outputs": [],
   "source": [
    "# hard Assignment 1.2\n",
    "# write a function to decide if a number is primal or not\n",
    "def primal(var):\n",
    "    i = 1 \n",
    "    while i <= var:\n",
    "        if i%var == 0 and i <> 1:\n",
    "            break\n",
    "        else:\n",
    "            i += 1\n",
    "    if i == var:\n",
    "        print var,\"is primal\"\n",
    "    else:\n",
    "        print var,\"is composite\""
   ]
  },
  {
   "cell_type": "code",
   "execution_count": 99,
   "metadata": {
    "collapsed": false
   },
   "outputs": [],
   "source": [
    "#  hard Assignment 2.1\n",
    "# Compute the number of words in a string, separated by space\n",
    "\n",
    "def wordCount(string):\n",
    "    return len(string.split(' '))\n",
    "    \n",
    "\n",
    "\n",
    "\n"
   ]
  },
  {
   "cell_type": "code",
   "execution_count": 100,
   "metadata": {
    "collapsed": false
   },
   "outputs": [
    {
     "data": {
      "text/plain": [
       "2"
      ]
     },
     "execution_count": 100,
     "metadata": {},
     "output_type": "execute_result"
    }
   ],
   "source": [
    "#  hard Assignment 2.2\n",
    "# Compute the number of words in a string, separated by space\n",
    "\n",
    "def wordCount(string):\n",
    "    return len(string.split(','))\n",
    "    "
   ]
  },
  {
   "cell_type": "code",
   "execution_count": 105,
   "metadata": {
    "collapsed": true
   },
   "outputs": [],
   "source": [
    "# hard Assignment 2.3\n",
    "# compute the the number of letter in input string\n",
    "\n",
    "def digitCount(string):\n",
    "    strset = string.split(' ')\n",
    "    lenset = []\n",
    "    for word in strset:\n",
    "        lenset.append(len(word))\n",
    "    return lenset\n",
    "        \n",
    "\n",
    "\n"
   ]
  },
  {
   "cell_type": "code",
   "execution_count": 13,
   "metadata": {
    "collapsed": false
   },
   "outputs": [],
   "source": [
    "# hard  Assignment 2.4\n",
    "# find a list of numbers that are primal up to an input number\n",
    "\n",
    "def primal(var):\n",
    "    i = 1 \n",
    "    while i <= var:\n",
    "        if var%i == 0 and i <> 1:\n",
    "            break\n",
    "        else:\n",
    "            i += 1\n",
    "    if i == var:\n",
    "        return var\n",
    "    else:\n",
    "        return False\n",
    "\n",
    "def findPrimal(var):\n",
    "    i = 1\n",
    "    prilist = []\n",
    "    while i <= var:\n",
    "        a = primal(i)\n",
    "        if a == False:\n",
    "            pass\n",
    "        else:\n",
    "            prilist.append(i)\n",
    "        i += 1\n",
    "    return prilist\n",
    "\n"
   ]
  },
  {
   "cell_type": "code",
   "execution_count": 20,
   "metadata": {
    "collapsed": false
   },
   "outputs": [],
   "source": [
    "# hard Assignment 2.5\n",
    "# determine whether each of the number in a list is divisible by 2\n",
    "\n",
    "def evenOrNot(var):\n",
    "    flag = []\n",
    "    for x in var:\n",
    "        if x%2 == 0:\n",
    "            flag.append('yes')\n",
    "        else:\n",
    "            flag.append('no')\n",
    "    return flag\n"
   ]
  },
  {
   "cell_type": "code",
   "execution_count": 33,
   "metadata": {
    "collapsed": false
   },
   "outputs": [],
   "source": [
    "# hard Assignment 2.6\n",
    "# write a function to find the words in a list that contains some letter\n",
    "\n",
    "def findLetter(var1,var2):\n",
    "    lst = []\n",
    "    for x in var1:\n",
    "        if var2 in x:\n",
    "            lst.append(x)\n",
    "        else:\n",
    "            pass\n",
    "    return lst\n",
    "\n",
    "            \n",
    "        "
   ]
  },
  {
   "cell_type": "code",
   "execution_count": 41,
   "metadata": {
    "collapsed": false
   },
   "outputs": [],
   "source": [
    "# hard Assignment 2.7\n",
    "\n",
    "def findIndex(var1,var2):\n",
    "    flag = []\n",
    "    for i in range(len(var1)):\n",
    "        if var2 in var1[i]:\n",
    "            flag.append(i)\n",
    "        else:\n",
    "            pass\n",
    "    return flag"
   ]
  },
  {
   "cell_type": "code",
   "execution_count": 45,
   "metadata": {
    "collapsed": false
   },
   "outputs": [],
   "source": [
    "a = [(30,3),(20,2)]"
   ]
  },
  {
   "cell_type": "code",
   "execution_count": 53,
   "metadata": {
    "collapsed": false
   },
   "outputs": [],
   "source": [
    "# Extra Credit\n",
    "# Write a function to be a calculator of the tax\n",
    "\n",
    "def taxCalculator(Info,Income):\n",
    "    #Info = sorted(Info,key=lambda item:item[0])\n",
    "    Info.sort()\n",
    "    i = 0\n",
    "    if Income < Info[-1][0]:\n",
    "        while i <= len(Info):\n",
    "            if Income < Info[i+1][0] and Income >= Info[i][0]:\n",
    "                ii = i\n",
    "                while ii >=0:\n",
    "                    tax = (Income - Info[ii][0])*Info[ii][1]\n",
    "                    Income = Income - Info[ii][0]\n",
    "                    ii -= 1\n",
    "            else:\n",
    "                i += 1\n",
    "            \n",
    "    elif Income >= Info[-1][0]:\n",
    "        tax = (Income - Info[-1][0])*Info[-1][1]\n",
    "        ii = len(Info) - 1\n",
    "        while ii >=0:\n",
    "            tax = Info[ii][0]*Info[ii][1] + tax\n",
    "            ii -= 1\n",
    "    elif Income <= Info[0][0]:\n",
    "        tax = Income*Info[0][1]\n",
    "        \n",
    "    return tax    \n",
    "\n"
   ]
  },
  {
   "cell_type": "code",
   "execution_count": 54,
   "metadata": {
    "collapsed": false
   },
   "outputs": [
    {
     "data": {
      "text/plain": [
       "4.0"
      ]
     },
     "execution_count": 54,
     "metadata": {},
     "output_type": "execute_result"
    }
   ],
   "source": [
    "taxCalculator([(100,0.1)],40)"
   ]
  },
  {
   "cell_type": "code",
   "execution_count": 60,
   "metadata": {
    "collapsed": true
   },
   "outputs": [],
   "source": [
    "nn = [(10,1),(20,1),(30,1),(15,1)]"
   ]
  },
  {
   "cell_type": "code",
   "execution_count": 61,
   "metadata": {
    "collapsed": false
   },
   "outputs": [
    {
     "data": {
      "text/plain": [
       "[(10, 1), (20, 1), (30, 1), (15, 1)]"
      ]
     },
     "execution_count": 61,
     "metadata": {},
     "output_type": "execute_result"
    }
   ],
   "source": [
    "nn"
   ]
  },
  {
   "cell_type": "code",
   "execution_count": 65,
   "metadata": {
    "collapsed": false
   },
   "outputs": [],
   "source": [
    "nnn= sorted(nn,key = lambda item:item[0])\n"
   ]
  },
  {
   "cell_type": "code",
   "execution_count": 66,
   "metadata": {
    "collapsed": false
   },
   "outputs": [
    {
     "data": {
      "text/plain": [
       "[(10, 1), (20, 1), (30, 1), (15, 1)]"
      ]
     },
     "execution_count": 66,
     "metadata": {},
     "output_type": "execute_result"
    }
   ],
   "source": [
    "nn"
   ]
  },
  {
   "cell_type": "code",
   "execution_count": 67,
   "metadata": {
    "collapsed": false
   },
   "outputs": [
    {
     "data": {
      "text/plain": [
       "[(10, 1), (15, 1), (20, 1), (30, 1)]"
      ]
     },
     "execution_count": 67,
     "metadata": {},
     "output_type": "execute_result"
    }
   ],
   "source": [
    "nnn"
   ]
  },
  {
   "cell_type": "code",
   "execution_count": 68,
   "metadata": {
    "collapsed": true
   },
   "outputs": [],
   "source": [
    "nn.sort()"
   ]
  },
  {
   "cell_type": "code",
   "execution_count": 70,
   "metadata": {
    "collapsed": false
   },
   "outputs": [],
   "source": [
    "g = lambda item:item[0]"
   ]
  },
  {
   "cell_type": "code",
   "execution_count": 71,
   "metadata": {
    "collapsed": false
   },
   "outputs": [
    {
     "data": {
      "text/plain": [
       "1"
      ]
     },
     "execution_count": 71,
     "metadata": {},
     "output_type": "execute_result"
    }
   ],
   "source": [
    "g([1,2,0])"
   ]
  },
  {
   "cell_type": "code",
   "execution_count": null,
   "metadata": {
    "collapsed": true
   },
   "outputs": [],
   "source": []
  }
 ],
 "metadata": {
  "kernelspec": {
   "display_name": "Python [conda root]",
   "language": "python",
   "name": "conda-root-py"
  },
  "language_info": {
   "codemirror_mode": {
    "name": "ipython",
    "version": 2
   },
   "file_extension": ".py",
   "mimetype": "text/x-python",
   "name": "python",
   "nbconvert_exporter": "python",
   "pygments_lexer": "ipython2",
   "version": "2.7.12"
  }
 },
 "nbformat": 4,
 "nbformat_minor": 1
}

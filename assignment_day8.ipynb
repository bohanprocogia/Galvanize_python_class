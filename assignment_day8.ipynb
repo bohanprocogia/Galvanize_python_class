{
 "cells": [
  {
   "cell_type": "code",
   "execution_count": 125,
   "metadata": {
    "collapsed": false
   },
   "outputs": [],
   "source": [
    "# Assignment 1.1\n",
    "\n",
    "class TipOutTracker(object):\n",
    "    def __init__(self,bills_n_tips,tip):\n",
    "        self.bills_n_tips = bills_n_tips\n",
    "        self.tip = tip\n",
    "        self.tip_total = sum(tip)\n",
    "        \n",
    "    def get_tips(self):\n",
    "        self.tip = [bill * tip for bill, tip in self.bills_n_tips]\n",
    "        self.tip_total = sum(self.tip)\n",
    "                \n",
    "    def add_bill_update_tips(self,new_bill, tip_rate = 0.18):\n",
    "        self.bills_n_tips.append((new_bill, tip_rate))\n",
    "    "
   ]
  },
  {
   "cell_type": "code",
   "execution_count": 147,
   "metadata": {
    "collapsed": false
   },
   "outputs": [
    {
     "name": "stdout",
     "output_type": "stream",
     "text": [
      "[(30, 0.1), (32, 0.2), (26, 0.18), (29, 0.18)]\n",
      "[3.0, 6.4, 4.68, 5.22]\n",
      "19.3\n",
      "[(20, 0.13), (10, 0.1)]\n",
      "[2.6, 1.0]\n",
      "3.6\n"
     ]
    }
   ],
   "source": [
    "tot = TipOutTracker([],[])\n",
    "tot.add_bill_update_tips(30,0.1)\n",
    "tot.add_bill_update_tips(32,0.2)\n",
    "tot.add_bill_update_tips(26,)\n",
    "tot.add_bill_update_tips(29,)\n",
    "\n",
    "dod = TipOutTracker([],[])\n",
    "dod.add_bill_update_tips(20,0.13)\n",
    "dod.add_bill_update_tips(10,0.1)\n",
    "\n",
    "\n",
    "print tot.bills_n_tips\n",
    "tot.get_tips()\n",
    "print tot.tip\n",
    "print tot.tip_total\n",
    "\n",
    "print dod.bills_n_tips\n",
    "dod.get_tips()\n",
    "print dod.tip\n",
    "print dod.tip_total"
   ]
  },
  {
   "cell_type": "code",
   "execution_count": 132,
   "metadata": {
    "collapsed": false
   },
   "outputs": [],
   "source": []
  },
  {
   "cell_type": "code",
   "execution_count": 134,
   "metadata": {
    "collapsed": false
   },
   "outputs": [
    {
     "data": {
      "text/plain": [
       "[(30, 0.1), (32, 0.2), (26, 0.18), (29, 0.18)]"
      ]
     },
     "execution_count": 134,
     "metadata": {},
     "output_type": "execute_result"
    }
   ],
   "source": [
    "tot.bills_n_tips"
   ]
  },
  {
   "cell_type": "code",
   "execution_count": 138,
   "metadata": {
    "collapsed": false
   },
   "outputs": [
    {
     "data": {
      "text/plain": [
       "[3.0, 6.4, 4.68, 5.22]"
      ]
     },
     "execution_count": 138,
     "metadata": {},
     "output_type": "execute_result"
    }
   ],
   "source": [
    "tot.tip"
   ]
  },
  {
   "cell_type": "code",
   "execution_count": 140,
   "metadata": {
    "collapsed": false
   },
   "outputs": [
    {
     "data": {
      "text/plain": [
       "[]"
      ]
     },
     "execution_count": 140,
     "metadata": {},
     "output_type": "execute_result"
    }
   ],
   "source": [
    "dod.tip"
   ]
  },
  {
   "cell_type": "code",
   "execution_count": 88,
   "metadata": {
    "collapsed": false
   },
   "outputs": [
    {
     "data": {
      "text/plain": [
       "[(30, 0.1), (32, 0.2), (26, 0.18), (29, 0.18)]"
      ]
     },
     "execution_count": 88,
     "metadata": {},
     "output_type": "execute_result"
    }
   ],
   "source": [
    "tot._bills_n_tips"
   ]
  },
  {
   "cell_type": "code",
   "execution_count": 109,
   "metadata": {
    "collapsed": false
   },
   "outputs": [],
   "source": [
    "dod = TipOutTracker()"
   ]
  },
  {
   "cell_type": "code",
   "execution_count": 110,
   "metadata": {
    "collapsed": false
   },
   "outputs": [
    {
     "data": {
      "text/plain": [
       "<__main__.TipOutTracker at 0x21ac198>"
      ]
     },
     "execution_count": 110,
     "metadata": {},
     "output_type": "execute_result"
    }
   ],
   "source": [
    "dod"
   ]
  },
  {
   "cell_type": "code",
   "execution_count": 103,
   "metadata": {
    "collapsed": false
   },
   "outputs": [],
   "source": [
    "tot.add_bill_update_tips(30,0.1)"
   ]
  },
  {
   "cell_type": "code",
   "execution_count": 104,
   "metadata": {
    "collapsed": false
   },
   "outputs": [
    {
     "data": {
      "text/plain": [
       "[(30, 0.1)]"
      ]
     },
     "execution_count": 104,
     "metadata": {},
     "output_type": "execute_result"
    }
   ],
   "source": [
    "tot._bills_n_tips"
   ]
  },
  {
   "cell_type": "code",
   "execution_count": 105,
   "metadata": {
    "collapsed": false
   },
   "outputs": [
    {
     "data": {
      "text/plain": [
       "[(30, 0.1)]"
      ]
     },
     "execution_count": 105,
     "metadata": {},
     "output_type": "execute_result"
    }
   ],
   "source": [
    "dod._bills_n_tips"
   ]
  },
  {
   "cell_type": "code",
   "execution_count": null,
   "metadata": {
    "collapsed": true
   },
   "outputs": [],
   "source": []
  }
 ],
 "metadata": {
  "anaconda-cloud": {},
  "kernelspec": {
   "display_name": "Python [conda root]",
   "language": "python",
   "name": "conda-root-py"
  },
  "language_info": {
   "codemirror_mode": {
    "name": "ipython",
    "version": 2
   },
   "file_extension": ".py",
   "mimetype": "text/x-python",
   "name": "python",
   "nbconvert_exporter": "python",
   "pygments_lexer": "ipython2",
   "version": "2.7.12"
  }
 },
 "nbformat": 4,
 "nbformat_minor": 1
}

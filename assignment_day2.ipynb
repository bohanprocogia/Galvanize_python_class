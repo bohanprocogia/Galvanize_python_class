{
 "cells": [
  {
   "cell_type": "code",
   "execution_count": 8,
   "metadata": {
    "collapsed": false
   },
   "outputs": [
    {
     "name": "stdout",
     "output_type": "stream",
     "text": [
      "Check the sigularity of this number: 1\n",
      "1 is a positive number\n"
     ]
    }
   ],
   "source": [
    "# Assignment 1\n",
    "# Check the parity\n",
    "\n",
    "\n",
    "a = int(raw_input('Check the sigularity of this number: '))\n",
    "if a > 0:\n",
    "    print a,\"is a positive number\"\n",
    "elif a < 0:\n",
    "    print a, \"is a negative number\"\n",
    "else:\n",
    "    print a, \"is zero\""
   ]
  },
  {
   "cell_type": "code",
   "execution_count": 12,
   "metadata": {
    "collapsed": false
   },
   "outputs": [
    {
     "name": "stdout",
     "output_type": "stream",
     "text": [
      "Please input the first number: 2\n",
      "Please input the second number: 1\n",
      "the first one is a bigger number\n"
     ]
    }
   ],
   "source": [
    "# Assignment 2\n",
    "# Compare 2 input numbers\n",
    "\n",
    "a = int(raw_input('Please input the first number: '))\n",
    "b = int(raw_input('Please input the second number: '))\n",
    "if a > b:\n",
    "    print \"the first one is a bigger number\"\n",
    "elif a < b:\n",
    "    print \"the second one is a bigger number\"\n",
    "else:\n",
    "    print \"these are two equal number\""
   ]
  },
  {
   "cell_type": "code",
   "execution_count": 6,
   "metadata": {
    "collapsed": false
   },
   "outputs": [
    {
     "name": "stdout",
     "output_type": "stream",
     "text": [
      "Please input the first number: 4\n",
      "the sum from 0 to 4 is 10\n"
     ]
    }
   ],
   "source": [
    "# Assignment 3\n",
    "# take the sum fromm 0 to the input value\n",
    "\n",
    "a = int(raw_input('Please input the first number: '))\n",
    "current = 0\n",
    "summ = 0\n",
    "while current <= a:\n",
    "    summ += current\n",
    "    current += 1\n",
    "print  \"the sum from 0 to\",a,\"is\", summ\n"
   ]
  },
  {
   "cell_type": "code",
   "execution_count": 8,
   "metadata": {
    "collapsed": false
   },
   "outputs": [
    {
     "name": "stdout",
     "output_type": "stream",
     "text": [
      "Compute the factorial from 1 to this number: 5\n",
      "5 ! is 120\n"
     ]
    }
   ],
   "source": [
    "# Assignment 4\n",
    "# Compute the factorial\n",
    "\n",
    "a = int(raw_input(\"Compute the factorial from 1 to this number: \"))\n",
    "current = 1\n",
    "factorial = current\n",
    "while current <= a:\n",
    "    factorial = factorial * current\n",
    "    current += 1\n",
    "print a,\"! is\", factorial\n",
    "    "
   ]
  },
  {
   "cell_type": "markdown",
   "metadata": {},
   "source": [
    "#Assignment 3\n",
    "\n",
    "a = int(raw_input(\"Take the sum from 0 to this number: \"))\n",
    "current = 0\n",
    "sum = 0\n",
    "while current <= a:\n",
    "    sum = sum + current\n",
    "    current += 1\n",
    "print sum"
   ]
  },
  {
   "cell_type": "markdown",
   "metadata": {},
   "source": [
    "##### "
   ]
  },
  {
   "cell_type": "code",
   "execution_count": 47,
   "metadata": {
    "collapsed": false
   },
   "outputs": [
    {
     "name": "stdout",
     "output_type": "stream",
     "text": [
      "find all divisor of this number:4\n",
      "1 is a divisor of 4\n",
      "2 is a divisor of 4\n",
      "4 is a divisor of 4\n"
     ]
    }
   ],
   "source": [
    "# Assignment 5\n",
    "# computes the divisor of an input number\n",
    "\n",
    "a = int(raw_input(\"find all divisor of this number:\"))\n",
    "div = 1\n",
    "while div <= a:\n",
    "    if a%div ==0:\n",
    "        print div,\"is a divisor of\",a\n",
    "    div += 1\n",
    "\n",
    "    \n",
    "\n"
   ]
  },
  {
   "cell_type": "code",
   "execution_count": 5,
   "metadata": {
    "collapsed": false
   },
   "outputs": [
    {
     "name": "stdout",
     "output_type": "stream",
     "text": [
      "the first number is 2\n",
      "the second number is 2\n",
      "2 is the greatest common divisor of 2 and 2\n"
     ]
    }
   ],
   "source": [
    "# Assignment 6\n",
    "# Find the greatest common divisor of two inputs\n",
    "\n",
    "a = int(raw_input(\"the first number is \"))\n",
    "b = int(raw_input(\"the second number is \"))\n",
    "\n",
    "if a <= b:\n",
    "    gcd = a\n",
    "else:\n",
    "    gcd = b\n",
    "\n",
    "while gcd >= 1:\n",
    "    if gcd > 1:\n",
    "        if b%gcd == 0 and a%gcd == 0:\n",
    "            print gcd,\"is the greatest common divisor of\",a,\"and\",b\n",
    "            break\n",
    "        else:\n",
    "            gcd += -1\n",
    "    elif gcd == 1:\n",
    "        print a,b,\"are primal to each other\"\n",
    "        break\n",
    "\n",
    "\n",
    "\n",
    "\n",
    "\n"
   ]
  },
  {
   "cell_type": "code",
   "execution_count": 10,
   "metadata": {
    "collapsed": false
   },
   "outputs": [
    {
     "name": "stdout",
     "output_type": "stream",
     "text": [
      "the first number is 1\n",
      "the second number is 1\n",
      "1 is the least common multiple of 1 and 1\n"
     ]
    }
   ],
   "source": [
    "# Assignment 7\n",
    "# Find the least common multiple of two inputs\n",
    "\n",
    "a = int(raw_input(\"the first number is \"))\n",
    "b = int(raw_input(\"the second number is \"))\n",
    "\n",
    "if a <= b:\n",
    "    lcm = b\n",
    "else:\n",
    "    lcm = a\n",
    "\n",
    "while lcm <= a*b:\n",
    "    if lcm%b == 0 and lcm%a == 0:\n",
    "        print lcm,\"is the least common multiple of\",a,\"and\",b\n",
    "        break\n",
    "    else:\n",
    "        lcm += 1\n",
    "\n",
    "\n"
   ]
  },
  {
   "cell_type": "code",
   "execution_count": 16,
   "metadata": {
    "collapsed": false
   },
   "outputs": [
    {
     "name": "stdout",
     "output_type": "stream",
     "text": [
      "Please input the number that needs to be checked: 3\n",
      "3 is a primal number\n"
     ]
    }
   ],
   "source": [
    "# Assignment 8\n",
    "# Check if an input number is a primal number or not\n",
    "\n",
    "a = int(raw_input(\"Please input the number that needs to be checked: \"))\n",
    "    \n",
    "test_num = a - 1\n",
    "while test_num > 1:\n",
    "    if a % test_num == 0:\n",
    "        print a, \"is not a primal number\"\n",
    "        print test_num,\"is the greatest divisor of\",a\n",
    "        break\n",
    "    else:\n",
    "        test_num -= 1\n",
    "\n",
    "if test_num == 1:\n",
    "    print a,\"is a primal number\"\n",
    "\n",
    "\n",
    "\n"
   ]
  },
  {
   "cell_type": "code",
   "execution_count": 2,
   "metadata": {
    "collapsed": false
   },
   "outputs": [
    {
     "name": "stdout",
     "output_type": "stream",
     "text": [
      "which entry you want? 3\n",
      "15\n"
     ]
    }
   ],
   "source": [
    "# Assignment 9\n",
    "# output the n-th entry of the series defined by a_i+1 = 2*a_i + 1, a_0 =1, n is a user input\n",
    "\n",
    "n = int(raw_input(\"which entry you want? \"))\n",
    "\n",
    "a = 1\n",
    "i = 1\n",
    "while i <= n:\n",
    "    a = 2*a + 1\n",
    "    i += 1\n",
    "print a\n",
    "    \n",
    "\n",
    "\n",
    "\n",
    "\n",
    "\n",
    "\n"
   ]
  },
  {
   "cell_type": "code",
   "execution_count": 1,
   "metadata": {
    "collapsed": false
   },
   "outputs": [
    {
     "name": "stdout",
     "output_type": "stream",
     "text": [
      "a = 1 , b = 6 , c = 3 , d = 5 , e = 2 , f = 4\n",
      "a = 6 , b = 3 , c = 1 , d = 5 , e = 2 , f = 4\n",
      "a = 6 , b = 5 , c = 2 , d = 3 , e = 1 , f = 4\n"
     ]
    }
   ],
   "source": [
    "# Assignment 10\n",
    "# use loop to solve (a + (b - c) * d - e) * f = 75\n",
    "\n",
    "a = 1\n",
    "\n",
    "while a <= 6:\n",
    "    b = 1\n",
    "    while b <= 6:\n",
    "        c = 1\n",
    "        while c <= 6:\n",
    "            d = 1\n",
    "            while d <= 6:\n",
    "                e = 1\n",
    "                while e<= 6:\n",
    "                    f = 1\n",
    "                    while f <= 6:\n",
    "                        if (a + (b - c) * d - e) * f == 56 and len((a,b,c,d,e,f)) == len(set((a,b,c,d,e,f))):\n",
    "                            print \"a =\",a,\",\",\"b =\",b,\",\",\"c =\",c,\",\",\"d =\",d,\",\",\"e =\",e,\",\",\"f =\",f\n",
    "                        f += 1\n",
    "                    e += 1\n",
    "                d += 1\n",
    "            c += 1\n",
    "        b += 1\n",
    "    a += 1\n",
    "\n",
    "\n"
   ]
  }
 ],
 "metadata": {
  "anaconda-cloud": {},
  "kernelspec": {
   "display_name": "Python [conda root]",
   "language": "python",
   "name": "conda-root-py"
  },
  "language_info": {
   "codemirror_mode": {
    "name": "ipython",
    "version": 2
   },
   "file_extension": ".py",
   "mimetype": "text/x-python",
   "name": "python",
   "nbconvert_exporter": "python",
   "pygments_lexer": "ipython2",
   "version": "2.7.12"
  }
 },
 "nbformat": 4,
 "nbformat_minor": 1
}

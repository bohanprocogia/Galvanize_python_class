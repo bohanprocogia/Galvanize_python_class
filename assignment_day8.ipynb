{
 "cells": [
  {
   "cell_type": "code",
   "execution_count": 8,
   "metadata": {
    "collapsed": false
   },
   "outputs": [],
   "source": [
    "# Assignment 1.1\n",
    "\n",
    "class TipOutTracker(object):\n",
    "    def __init__(self,bills_n_tips,tip):\n",
    "        self.bills_n_tips = bills_n_tips\n",
    "        self.tip = tip\n",
    "        self.tip_total = sum(tip)\n",
    "        \n",
    "    def get_tips(self):\n",
    "        self.tip = [bill * tip for bill, tip in self.bills_n_tips]\n",
    "        self.tip_total = sum(self.tip)\n",
    "                \n",
    "    def add_bill_update_tips(self,new_bill, tip_rate = 0.18):\n",
    "        self.bills_n_tips.append((new_bill, tip_rate))\n",
    "    "
   ]
  },
  {
   "cell_type": "code",
   "execution_count": 9,
   "metadata": {
    "collapsed": false
   },
   "outputs": [
    {
     "name": "stdout",
     "output_type": "stream",
     "text": [
      "[(30, 0.1), (32, 0.2), (26, 0.18), (29, 0.18)]\n",
      "[3.0, 6.4, 4.68, 5.22]\n",
      "19.3\n",
      "[(20, 0.13), (10, 0.1)]\n",
      "[2.6, 1.0]\n",
      "3.6\n"
     ]
    }
   ],
   "source": [
    "tot = TipOutTracker([],[])\n",
    "tot.add_bill_update_tips(30,0.1)\n",
    "tot.add_bill_update_tips(32,0.2)\n",
    "tot.add_bill_update_tips(26,)\n",
    "tot.add_bill_update_tips(29,)\n",
    "\n",
    "dod = TipOutTracker([],[])\n",
    "dod.add_bill_update_tips(20,0.13)\n",
    "dod.add_bill_update_tips(10,0.1)\n",
    "\n",
    "\n",
    "print tot.bills_n_tips\n",
    "tot.get_tips()\n",
    "print tot.tip\n",
    "print tot.tip_total\n",
    "\n",
    "print dod.bills_n_tips\n",
    "dod.get_tips()\n",
    "print dod.tip\n",
    "print dod.tip_total"
   ]
  },
  {
   "cell_type": "code",
   "execution_count": 23,
   "metadata": {
    "collapsed": false
   },
   "outputs": [],
   "source": [
    "# Assignment 2\n",
    "# Create a class ToDoList\n",
    "\n",
    "class ToDoList(object):\n",
    "    def __init__(self,todolist,completed):\n",
    "        self.todolist = todolist\n",
    "        self.completed = completed\n",
    "    \n",
    "    def addToDo(self,task,porioty=5):\n",
    "        self.todolist.append((task,porioty))\n",
    "    \n",
    "    def complete(self,task):\n",
    "        if task in self.todolist:\n",
    "            print task,\"is completed\"\n",
    "            self.todolist.remove(task)\n",
    "            print \"you have\",len(self.todolist),\"task left\"\n",
    "            self.addCompleted(task)\n",
    "        else:\n",
    "            print \"this task is not in the list\"\n",
    "            \n",
    "    def addCompleted(self,task):\n",
    "        self.completed.append(task)\n",
    "        \n",
    "\n",
    "\n",
    "\n"
   ]
  },
  {
   "cell_type": "code",
   "execution_count": 64,
   "metadata": {
    "collapsed": false
   },
   "outputs": [],
   "source": [
    "# Extra credit 2-4\n",
    "# use dict or list of tuples\n",
    "class ToDoList(object):\n",
    "    def __init__(self,todolist,completed):\n",
    "        self.todolist = todolist\n",
    "        self.completed = completed\n",
    "    \n",
    "    def addToDo(self,task,porioty=5):\n",
    "        self.todolist[task] = porioty\n",
    "        print sorted(self.todolist.iteritems(), key=lambda d:d[1], reverse = False)\n"
   ]
  },
  {
   "cell_type": "code",
   "execution_count": null,
   "metadata": {
    "collapsed": true
   },
   "outputs": [],
   "source": []
  }
 ],
 "metadata": {
  "anaconda-cloud": {},
  "kernelspec": {
   "display_name": "Python [conda root]",
   "language": "python",
   "name": "conda-root-py"
  },
  "language_info": {
   "codemirror_mode": {
    "name": "ipython",
    "version": 2
   },
   "file_extension": ".py",
   "mimetype": "text/x-python",
   "name": "python",
   "nbconvert_exporter": "python",
   "pygments_lexer": "ipython2",
   "version": "2.7.12"
  }
 },
 "nbformat": 4,
 "nbformat_minor": 1
}

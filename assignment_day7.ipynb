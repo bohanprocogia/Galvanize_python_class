{
 "cells": [
  {
   "cell_type": "code",
   "execution_count": 20,
   "metadata": {
    "collapsed": true
   },
   "outputs": [],
   "source": [
    "# Warm up 1.1\n",
    "class Dog(object):\n",
    "    def __init__(self,name,h_level):\n",
    "        self._name = name\n",
    "        self._h_level = h_level\n",
    "    def wag_tail(self,n):\n",
    "        self._h_level += self._h_level * 5"
   ]
  },
  {
   "cell_type": "code",
   "execution_count": 32,
   "metadata": {
    "collapsed": false
   },
   "outputs": [],
   "source": [
    "# Warm up 1.2\n",
    "\n",
    "class Cat(object):\n",
    "    def __init__(self,name,l_level,location):\n",
    "        self._name = name\n",
    "        self._l_level = l_level\n",
    "        self._location = location\n",
    "    def sense_earthquake(self,eq_flag):\n",
    "        if eq_flag == 1:\n",
    "            self._location = \"gone dark\"\n",
    "            print self._name,\"is gone dark\"\n",
    "        else:\n",
    "            print self._name, \"is at\", self._location\n",
    "        "
   ]
  },
  {
   "cell_type": "code",
   "execution_count": 35,
   "metadata": {
    "collapsed": true
   },
   "outputs": [],
   "source": [
    "# Warm up 2.1\n",
    "\n",
    "class Car(object):\n",
    "    def __init__(self,model,color,tank_size):\n",
    "        self._model = model\n",
    "        self._color = color\n",
    "        self._tank_size = tank_size\n",
    "    def drive(self, miles_driven):\n",
    "        self._gallons_of_gas = miles_driven/10\n",
    "\n"
   ]
  },
  {
   "cell_type": "code",
   "execution_count": 36,
   "metadata": {
    "collapsed": true
   },
   "outputs": [],
   "source": [
    "# Warm up 3.1 \n",
    "# Similar to 2.1"
   ]
  },
  {
   "cell_type": "code",
   "execution_count": 37,
   "metadata": {
    "collapsed": true
   },
   "outputs": [],
   "source": [
    "# Assignment 1\n",
    "\n",
    "class Company(object):\n",
    "    def __init__(self,name,industry_type,num_employees,total_revenue):\n",
    "        self._name = name\n",
    "        self._industry_type = industry_type\n",
    "        self._num_employees = num_employees\n",
    "        self._total_revenue = total_revenue\n",
    "    def serve_customer(self,cost):\n",
    "        self._total_revenue -= cost\n",
    "    def gain_employees(self,lst):\n",
    "        self._num_employees += len(lst)\n",
    "        \n",
    "\n"
   ]
  },
  {
   "cell_type": "code",
   "execution_count": 38,
   "metadata": {
    "collapsed": true
   },
   "outputs": [],
   "source": [
    "# Assignment 2\n",
    "\n",
    "class TV(object):\n",
    "    def __init__(self,brand,on_status,current-channel,life_perc):\n",
    "        self._brand = brand\n",
    "        self._on_status = on_status\n",
    "        self._current-channel = current-channel\n",
    "        self._life_perc = life_perc\n",
    "    def hitpower(self,turn):\n",
    "        if turn == 0:\n",
    "            self._life_perc -= 0.1\n",
    "            self._current-channel = 0\n",
    "    def change_channel(self,channel):\n",
    "        self._current_channel = channel\n",
    "\n"
   ]
  },
  {
   "cell_type": "code",
   "execution_count": 148,
   "metadata": {
    "collapsed": false
   },
   "outputs": [],
   "source": [
    "# hard assignment 1\n",
    "\n",
    "\n",
    "\n",
    "class OurClass(object): \n",
    "    \n",
    "    def __init__(self,member,size,location,instructor): \n",
    "        self.location = location\n",
    "        self.size = size\n",
    "        self.member = member\n",
    "        self.total_codes = 0\n",
    "        self.instructor = instructor\n",
    "    \n",
    "    def add_class_members(self, member):\n",
    "        if len(member) >= 1:\n",
    "            self.size += len(member)\n",
    "            self.memeber = self.member.append(member)\n",
    "    \n",
    "        if self.size >= 20: \n",
    "            print 'Capacity Reached!!'\n",
    "            self.at_capacity = True\n",
    "    \n",
    "    def check_if_at_capacity(self): \n",
    "        return self.at_capacity\n",
    "    \n",
    "    def count_codes_members(self,member):\n",
    "        for idiv in member:\n",
    "            self.total_codes += idiv.num_codes\n",
    "        \n",
    "    def    \n",
    "\n",
    "\n",
    "\n",
    "\n",
    "\n",
    "\n"
   ]
  },
  {
   "cell_type": "code",
   "execution_count": 149,
   "metadata": {
    "collapsed": false
   },
   "outputs": [],
   "source": [
    "# hard assignment 2\n",
    "\n",
    "class Member(object):\n",
    "    def __init__(self,name,birthday,haircolor):\n",
    "        self.name = name\n",
    "        self.birthday = birthday\n",
    "        self.haircolor = haircolor\n",
    "        self.question_asked = []\n",
    "        self.lines_code = []\n",
    "        self.num_codes = 0\n",
    "        self.level = \"unknown\"\n",
    "        \n",
    "    def add_question_asked(self,question):\n",
    "        self.question_asked.append(question)\n",
    "    \n",
    "    def getting_code_level(self,num_codes):\n",
    "        if num_codes <= 1000:\n",
    "            self.level = \"beginner\"\n",
    "        elif num_codes > 1000:\n",
    "            self.level = \"experienced\"\n",
    "        return self.level\n",
    "            \n",
    "    def add_code_line(self,string):\n",
    "        self.lines_code.append(string)\n",
    "        self.num_codes += len(string)\n",
    "        self.level = self.getting_code_level(self.num_codes)\n",
    "        \n",
    "        \n"
   ]
  },
  {
   "cell_type": "code",
   "execution_count": 150,
   "metadata": {
    "collapsed": false
   },
   "outputs": [],
   "source": [
    "# Hard Assignment Extra Credit\n",
    "\n",
    "class instructor(object):\n",
    "    def __init__(self,name,question_answered):\n",
    "        self.name = name\n",
    "        self.questions_answered = []\n",
    "\n",
    "    def add_question_answered(self,questions):\n",
    "        self.add_question_answered.append(questions)\n",
    "    \n",
    "    "
   ]
  }
 ],
 "metadata": {
  "anaconda-cloud": {},
  "kernelspec": {
   "display_name": "Python [conda root]",
   "language": "python",
   "name": "conda-root-py"
  },
  "language_info": {
   "codemirror_mode": {
    "name": "ipython",
    "version": 2
   },
   "file_extension": ".py",
   "mimetype": "text/x-python",
   "name": "python",
   "nbconvert_exporter": "python",
   "pygments_lexer": "ipython2",
   "version": "2.7.12"
  }
 },
 "nbformat": 4,
 "nbformat_minor": 1
}
